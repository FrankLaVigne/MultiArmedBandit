{
 "cells": [
  {
   "cell_type": "code",
   "execution_count": 8,
   "id": "3c4a2558-8387-4c3e-a7ff-d8be264eb739",
   "metadata": {},
   "outputs": [
    {
     "name": "stdout",
     "output_type": "stream",
     "text": [
      "hello world\n"
     ]
    }
   ],
   "source": [
    "print(\"hello world\")"
   ]
  },
  {
   "cell_type": "code",
   "execution_count": 9,
   "id": "ae412543-1197-422d-8140-ebd0cd64dbba",
   "metadata": {},
   "outputs": [],
   "source": [
    "x = 5"
   ]
  },
  {
   "cell_type": "code",
   "execution_count": 10,
   "id": "e4126e86-f85b-4f9f-9f5c-b4ebc3a19b90",
   "metadata": {},
   "outputs": [
    {
     "name": "stdout",
     "output_type": "stream",
     "text": [
      "5\n"
     ]
    }
   ],
   "source": [
    "print(x)"
   ]
  },
  {
   "cell_type": "code",
   "execution_count": 11,
   "id": "f7a07ee6-e627-4353-bc05-de467a82f5d7",
   "metadata": {},
   "outputs": [
    {
     "data": {
      "text/plain": [
       "5"
      ]
     },
     "execution_count": 11,
     "metadata": {},
     "output_type": "execute_result"
    }
   ],
   "source": [
    "x"
   ]
  },
  {
   "cell_type": "code",
   "execution_count": 12,
   "id": "7930f860-5150-415e-a53d-de3cfef10ffd",
   "metadata": {},
   "outputs": [],
   "source": [
    "x = 7"
   ]
  },
  {
   "cell_type": "code",
   "execution_count": 13,
   "id": "ccf556ee-b046-4a9e-ae84-dde72cbec559",
   "metadata": {},
   "outputs": [
    {
     "name": "stdout",
     "output_type": "stream",
     "text": [
      "total 4292\n",
      "-rw-rw-r--.  1 1000970000 1000970000  109606 Nov 21  2022  agent.png\n",
      "drwxrwsr-x. 11 1000970000 1000970000    4096 Jan 11  2023  CS132-Geometric-Algorithms\n",
      "-rw-rw-r--.  1 1000970000 1000970000 2442986 Nov 21  2022  multiarmedbandit.png\n",
      "-rw-rw-r--.  1 1000970000 1000970000   18931 Nov 21  2022  redhat.jpg\n",
      "-rw-rw-r--.  1 1000970000 1000970000   18822 Nov 21  2022  rhods.jpg\n",
      "-rw-rw-r--.  1 1000970000 1000970000  101616 Jul 27 17:21 'Slot Machines.ipynb'\n",
      "-rw-rw-r--.  1 1000970000 1000970000 1686791 Nov 21  2022  slots.png\n",
      "-rw-r--r--.  1 1000970000 1000970000    1891 Jul 27 17:23  Untitled.ipynb\n"
     ]
    }
   ],
   "source": [
    "! ls -l"
   ]
  },
  {
   "cell_type": "code",
   "execution_count": null,
   "id": "5e580848-1b77-4ba4-aae1-6214df97d0c8",
   "metadata": {},
   "outputs": [],
   "source": []
  }
 ],
 "metadata": {
  "kernelspec": {
   "display_name": "Python 3.9.16",
   "language": "python",
   "name": "python3"
  },
  "language_info": {
   "codemirror_mode": {
    "name": "ipython",
    "version": 3
   },
   "file_extension": ".py",
   "mimetype": "text/x-python",
   "name": "python",
   "nbconvert_exporter": "python",
   "pygments_lexer": "ipython3",
   "version": "3.9.16"
  }
 },
 "nbformat": 4,
 "nbformat_minor": 5
}
