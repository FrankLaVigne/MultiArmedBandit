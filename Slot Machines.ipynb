{
 "cells": [
  {
   "cell_type": "markdown",
   "id": "ac142ade-c33d-4dab-8c34-0d0a57a204e9",
   "metadata": {
    "tags": []
   },
   "source": [
    "# Reinforcement Learning\n",
    "\n",
    "![](agent.png)\n",
    "\n",
    "## Working Slot Machines via an Agent\n",
    "\n",
    "\n",
    "![](multiarmedbandit.png)\n",
    "\n",
    "\n",
    "![](redhat.jpg)\n"
   ]
  },
  {
   "cell_type": "markdown",
   "id": "3f6dc3c8-e3a1-4069-8c2c-f5d90f028434",
   "metadata": {},
   "source": [
    "## Set up the simulation environment\n",
    "\n",
    "![](slots.png)"
   ]
  },
  {
   "cell_type": "code",
   "execution_count": 1,
   "id": "a1be9764-9d86-4d3d-91c3-c4ec6b26d21d",
   "metadata": {},
   "outputs": [],
   "source": [
    "import numpy as np\n",
    "import matplotlib.pyplot as plt\n"
   ]
  },
  {
   "cell_type": "code",
   "execution_count": 2,
   "id": "8870b180-9043-4950-a6d9-52be40b1416d",
   "metadata": {},
   "outputs": [],
   "source": [
    "\n",
    "number_of_slot_machines = 5\n",
    "np.random.seed(100)\n",
    "JPs = np.random.uniform(0,1, number_of_slot_machines)"
   ]
  },
  {
   "cell_type": "markdown",
   "id": "5412cbfe-74a0-41b4-a835-e52676608fad",
   "metadata": {},
   "source": [
    "## The Ground Truth"
   ]
  },
  {
   "cell_type": "code",
   "execution_count": 3,
   "id": "85366c3d-7a3f-4a53-a75d-7607a32a3f7f",
   "metadata": {},
   "outputs": [
    {
     "name": "stdout",
     "output_type": "stream",
     "text": [
      "[0.54340494 0.27836939 0.42451759 0.84477613 0.00471886]\n"
     ]
    },
    {
     "data": {
      "image/png": "[encoded data removed]",
      "text/plain": [
       "<Figure size 640x480 with 1 Axes>"
      ]
     },
     "metadata": {},
     "output_type": "display_data"
    }
   ],
   "source": [
    "print(JPs)\n",
    "plt.bar(np.arange(len(JPs)),JPs)\n",
    "plt.show()"
   ]
  },
  {
   "cell_type": "markdown",
   "id": "8d433b96-9819-44e4-9749-571e45b28bd2",
   "metadata": {},
   "source": [
    "## What the Agent Knows at the Start"
   ]
  },
  {
   "cell_type": "code",
   "execution_count": 4,
   "id": "0edd9429-7e70-4089-a3db-694b7f4eb3db",
   "metadata": {},
   "outputs": [
    {
     "data": {
      "image/png": "[encoded data removed]",
      "text/plain": [
       "<Figure size 640x480 with 1 Axes>"
      ]
     },
     "metadata": {},
     "output_type": "display_data"
    }
   ],
   "source": [
    "known_JPs = np.zeros(number_of_slot_machines)\n",
    "\n",
    "plt.bar(np.arange(len(known_JPs)),known_JPs)\n",
    "plt.show()\n"
   ]
  },
  {
   "cell_type": "markdown",
   "id": "99058136-27e4-44eb-9abf-ec2e4edcdd21",
   "metadata": {},
   "source": [
    "## Play a machine and test it N times"
   ]
  },
  {
   "cell_type": "markdown",
   "id": "59073c7d-c493-4e70-ae16-16cb9f3209e4",
   "metadata": {},
   "source": [
    "#### Define the function"
   ]
  },
  {
   "cell_type": "code",
   "execution_count": 5,
   "id": "bd065f6c-bc54-4ccb-9efa-d49cba7cbe31",
   "metadata": {},
   "outputs": [],
   "source": [
    "def play_machine(slot_machine):\n",
    "  x = np.random.uniform(0, 1)\n",
    "  if (x <= JPs[slot_machine]):\n",
    "    return(10)\n",
    "  else:\n",
    "    return(-1)"
   ]
  },
  {
   "cell_type": "markdown",
   "id": "daa45e07-f549-4fc9-aaa0-d19094dd4890",
   "metadata": {},
   "source": [
    "#### Test the machine"
   ]
  },
  {
   "cell_type": "code",
   "execution_count": 6,
   "id": "467adbaa-6c2c-45be-bb3b-09bc45be44c1",
   "metadata": {},
   "outputs": [
    {
     "name": "stdout",
     "output_type": "stream",
     "text": [
      "Machine 4\n",
      "10\n",
      "10\n",
      "10\n",
      "10\n",
      "10\n",
      "-1\n",
      "10\n",
      "10\n",
      "10\n",
      "10\n",
      "-----------------------\n",
      "Machine 5\n",
      "-1\n",
      "-1\n",
      "-1\n",
      "-1\n",
      "-1\n",
      "-1\n",
      "-1\n",
      "-1\n",
      "-1\n",
      "-1\n"
     ]
    }
   ],
   "source": [
    "test_iterations = 10\n",
    "\n",
    "# Test Slot Machine 4\n",
    "print(\"Machine 4\")\n",
    "for machines in range(test_iterations):\n",
    "  print(play_machine(3))\n",
    "print (\"-----------------------\")      \n",
    "\n",
    "\n",
    "# Test Slot Machine 5\n",
    "print(\"Machine 5\")\n",
    "for machines in range(test_iterations):\n",
    "  print(play_machine(4))"
   ]
  },
  {
   "cell_type": "markdown",
   "id": "dbd8d58a-4cb1-46d2-a7c1-ac12a19ada8f",
   "metadata": {},
   "source": [
    "# The Epsilon Greedy Algorithm\n",
    "\n",
    "## Explore or Exploit : Greed vs Curiousity\n",
    "\n",
    "The core dilemma the agent faces here is whether to prioritize greed, the desire to exploit a known resource, or curiosity, the desire to explore other slot machines in the hopes of a better chance of rewards. \n",
    "\n",
    "One of the simplest algorithms for solving this dilemma is known as the Epsilon Greedy algorithm, where the agent chooses at random between using the slot machine with the best odds of payout observed thus far, or trying out another machine in the hopes that it may provide a better payout. \n",
    "\n",
    "With a low value of Epsilon, this algorithm follows the greedy algorithm, but will occasionally try another slot machine. For instance, if the Epsilon value is .1, the algorithm will opt to exploit 90 percent of the time and explore only 10 percent of the time. Typically, default values of Epsilon tend to fall between .05 and .1. In short, the agent will primarily play the best slot machine discovered that it knows of and sometimes try a new machine. Remember that each pull of the lever comes at a cost and the agent doesn’t know what we know: that slot 4 pays out the best.\n",
    "\n",
    "\n",
    "\n",
    "\n",
    "#### Define the Multi-Armed Bandit simulation function"
   ]
  },
  {
   "cell_type": "code",
   "execution_count": 7,
   "id": "9a74de8b-4c26-4374-adaa-80712c416693",
   "metadata": {},
   "outputs": [],
   "source": [
    "def multi_armed_bandit(arms, iterations, epsilon):\n",
    "  total_reward, optimal_action = [], []\n",
    "  estimated_payout_odds = np.zeros(arms)\n",
    "  count = np.zeros(arms)\n",
    "  for i in range(0, iterations):\n",
    "    epsilon_random = np.random.uniform(0, 1)\n",
    "    if epsilon_random > epsilon :\n",
    "      # exploit\n",
    "      action = np.argmax(estimated_payout_odds)\n",
    "    else :\n",
    "      # explore\n",
    "      action = np.random.choice(np.arange(arms))\n",
    "    reward = play_machine(action)\n",
    "    estimated_payout_odds[action] = estimated_payout_odds[action] + (1/(count[action]+1)) * (reward - estimated_payout_odds[action])\n",
    "    total_reward.append(reward)\n",
    "    optimal_action.append(action == np.argmax(estimated_payout_odds))\n",
    "    count[action] += 1\n",
    "  return(estimated_payout_odds, total_reward)"
   ]
  },
  {
   "cell_type": "markdown",
   "id": "3ea5b075-2944-4175-90e1-9cb93341d1e0",
   "metadata": {},
   "source": [
    "## Run the Simulation\n",
    "\n",
    "#### First with an Epsilon of 10%"
   ]
  },
  {
   "cell_type": "code",
   "execution_count": 8,
   "id": "aa7d1d78-796e-462d-8ff4-57db8d47f88a",
   "metadata": {},
   "outputs": [
    {
     "name": "stdout",
     "output_type": "stream",
     "text": [
      "Actual Odds\n"
     ]
    },
    {
     "data": {
      "image/png": "[encoded data removed]",
      "text/plain": [
       "<Figure size 640x480 with 1 Axes>"
      ]
     },
     "metadata": {},
     "output_type": "display_data"
    },
    {
     "name": "stdout",
     "output_type": "stream",
     "text": [
      "[0.54340494 0.27836939 0.42451759 0.84477613 0.00471886]\n",
      "----------------------------------\n",
      "\n",
      "----------------------------------\n",
      "Learned Odds with epsilon of .1\n",
      "----------------------------------\n"
     ]
    },
    {
     "data": {
      "image/png": "[encoded data removed]",
      "text/plain": [
       "<Figure size 640x480 with 1 Axes>"
      ]
     },
     "metadata": {},
     "output_type": "display_data"
    },
    {
     "name": "stdout",
     "output_type": "stream",
     "text": [
      "[ 5.34615385  0.83333333  2.03448276  8.45657016 -0.52173913]\n",
      "Reward:  7800\n"
     ]
    }
   ],
   "source": [
    "print (\"Actual Odds\")\n",
    "plt.bar(np.arange(len(JPs)),JPs)\n",
    "plt.show()\n",
    "print (JPs)\n",
    "print(\"----------------------------------\")\n",
    "iterations = 1000\n",
    "print(\"\\n----------------------------------\")\n",
    "print (\"Learned Odds with epsilon of .1\")\n",
    "print(\"----------------------------------\")\n",
    "learned_payout_odds, reward = multi_armed_bandit(number_of_slot_machines, iterations, .1)\n",
    "plt.bar(np.arange(len(learned_payout_odds)),learned_payout_odds)\n",
    "plt.show()\n",
    "print (learned_payout_odds)\n",
    "print (\"Reward: \", sum(reward))"
   ]
  },
  {
   "cell_type": "markdown",
   "id": "97eadd92-43e8-4fbb-ab17-62202b5dc3cc",
   "metadata": {},
   "source": [
    "#### Then with 0%"
   ]
  },
  {
   "cell_type": "code",
   "execution_count": 9,
   "id": "ae6be72d-4c13-4b17-ae86-5bd75d4fe768",
   "metadata": {},
   "outputs": [
    {
     "name": "stdout",
     "output_type": "stream",
     "text": [
      "\n",
      "----------------------------------\n",
      "Learned Odds with epsilon of 0\n",
      "----------------------------------\n"
     ]
    },
    {
     "data": {
      "image/png": "[encoded data removed]",
      "text/plain": [
       "<Figure size 640x480 with 1 Axes>"
      ]
     },
     "metadata": {},
     "output_type": "display_data"
    },
    {
     "name": "stdout",
     "output_type": "stream",
     "text": [
      "[5.204 0.    0.    0.    0.   ]\n",
      "Reward:  5204\n"
     ]
    }
   ],
   "source": [
    "print(\"\\n----------------------------------\")\n",
    "print (\"Learned Odds with epsilon of 0\")\n",
    "print(\"----------------------------------\")\n",
    "learned_payout_odds, reward = multi_armed_bandit(number_of_slot_machines, iterations, 0)\n",
    "plt.bar(np.arange(len(learned_payout_odds)),learned_payout_odds)\n",
    "plt.show()\n",
    "print (learned_payout_odds)\n",
    "print (\"Reward: \", sum(reward))"
   ]
  },
  {
   "cell_type": "markdown",
   "id": "c122ed70-d168-49eb-959c-b2537fff7f88",
   "metadata": {},
   "source": [
    "#### Now 100%"
   ]
  },
  {
   "cell_type": "code",
   "execution_count": 10,
   "id": "70653985-37be-4b94-ab7c-faf1ab5c8238",
   "metadata": {},
   "outputs": [
    {
     "name": "stdout",
     "output_type": "stream",
     "text": [
      "\n",
      "----------------------------------\n",
      "Learned Odds with epsilon of 1\n",
      "----------------------------------\n"
     ]
    },
    {
     "data": {
      "image/png": "[encoded data removed]",
      "text/plain": [
       "<Figure size 640x480 with 1 Axes>"
      ]
     },
     "metadata": {},
     "output_type": "display_data"
    },
    {
     "name": "stdout",
     "output_type": "stream",
     "text": [
      "[ 5.31683168  1.92964824  3.66666667  8.1127451  -1.        ]\n",
      "Reward:  3642\n"
     ]
    }
   ],
   "source": [
    "print(\"\\n----------------------------------\")\n",
    "print (\"Learned Odds with epsilon of 1\")\n",
    "print(\"----------------------------------\")\n",
    "learned_payout_odds, reward  = multi_armed_bandit(number_of_slot_machines, iterations, 1)\n",
    "plt.bar(np.arange(len(learned_payout_odds)),learned_payout_odds)\n",
    "plt.show()\n",
    "print (learned_payout_odds)\n",
    "print (\"Reward: \", sum(reward))"
   ]
  },
  {
   "cell_type": "markdown",
   "id": "8dd17539-845c-41fb-a872-32bf7d14c14e",
   "metadata": {},
   "source": [
    "# The Gordon Gecko Hypothesis\n",
    "\n",
    "## Run a Hyperparameter Sweep of Epsilon Greedy from 0 to 1 \n"
   ]
  },
  {
   "cell_type": "code",
   "execution_count": 11,
   "id": "9b8e5b00-2679-462e-9108-b01cca777b00",
   "metadata": {},
   "outputs": [
    {
     "data": {
      "image/png": "[encoded data removed]",
      "text/plain": [
       "<Figure size 640x480 with 1 Axes>"
      ]
     },
     "metadata": {},
     "output_type": "display_data"
    },
    {
     "data": {
      "text/plain": [
       "<Figure size 45000x1500 with 0 Axes>"
      ]
     },
     "metadata": {},
     "output_type": "display_data"
    }
   ],
   "source": [
    "winnings_list = []\n",
    "\n",
    "for x in range(0, 100):\n",
    "    \n",
    "    greed_factor = x /100\n",
    "    learned_payout_odds, reward  = multi_armed_bandit(number_of_slot_machines, iterations, greed_factor)\n",
    "    \n",
    "    winnings = sum(reward)\n",
    "    \n",
    "    \n",
    "    # matplotlib.pyplot.figure(figsize=(float,float)) \n",
    "\n",
    "\n",
    "    winnings_list.append(winnings)\n",
    "    \n",
    "    #print(len(winnings_list)) \n",
    "    \n",
    "plt.plot(np.arange(len(winnings_list)),winnings_list)\n",
    "plt.figure(figsize=(450, 15))\n",
    "plt.show()\n",
    "\n",
    "\n"
   ]
  },
  {
   "cell_type": "code",
   "execution_count": null,
   "id": "498e04a4-b3a7-4cbc-9caa-22eef46e59ba",
   "metadata": {},
   "outputs": [],
   "source": []
  }
 ],
 "metadata": {
  "kernelspec": {
   "display_name": "Python 3.9",
   "language": "python",
   "name": "python3"
  },
  "language_info": {
   "codemirror_mode": {
    "name": "ipython",
    "version": 3
   },
   "file_extension": ".py",
   "mimetype": "text/x-python",
   "name": "python",
   "nbconvert_exporter": "python",
   "pygments_lexer": "ipython3",
   "version": "3.9.16"
  }
 },
 "nbformat": 4,
 "nbformat_minor": 5
}
